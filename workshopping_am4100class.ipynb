{
 "cells": [
  {
   "cell_type": "code",
   "execution_count": 6,
   "metadata": {},
   "outputs": [],
   "source": [
    "import serial\n",
    "import time\n",
    "\n",
    "class AM4100:\n",
    "    def __init__(self, com_port='COM4', baud_rate=115200):\n",
    "        self.com_port = com_port\n",
    "        self.baud_rate = baud_rate\n",
    "        self.serial_port = None\n",
    "        self.setup_serial_connection()\n",
    "\n",
    "    def setup_serial_connection(self):\n",
    "        try:\n",
    "            self.serial_port = serial.Serial(self.com_port, self.baud_rate, timeout=10)\n",
    "            self.serial_port.bytesize = serial.EIGHTBITS\n",
    "            self.serial_port.stopbits = serial.STOPBITS_ONE\n",
    "            self.serial_port.parity = serial.PARITY_ODD\n",
    "            self.serial_port.write_timeout = 10  # Set write timeout to prevent blocking write calls\n",
    "            time.sleep(1)  # Allow some time for the serial port to initialize\n",
    "        except serial.SerialException as e:\n",
    "            print(f\"Error opening serial port: {e}\")\n",
    "            self.serial_port = None\n",
    "\n",
    "    def flush_serial_port(self):\n",
    "        if self.serial_port is not None:\n",
    "            self.serial_port.reset_input_buffer()  # Clear input buffer\n",
    "            self.serial_port.reset_output_buffer()  # Clear output buffer\n",
    "\n",
    "    def send_command_to_stimulator(self, command):\n",
    "        if self.serial_port is not None:\n",
    "            try:\n",
    "                self.serial_port.write(command.encode() + b'\\r\\n')\n",
    "                print(f\"Send= {command}\")\n",
    "                time.sleep(0.01)  # Short delay to allow command processing\n",
    "                response = self.serial_port.readline().decode().strip()\n",
    "                response = response.replace('\\r', '').replace('\\n', '~')  # Process response\n",
    "                print(f\"Reply= {response}\")\n",
    "                return response\n",
    "            except serial.SerialException as e:\n",
    "                print(f\"Error sending command: {e}\")\n",
    "                return \"error no data\"\n",
    "        else:\n",
    "            print(\"Serial port is not open.\")\n",
    "            return \"error no data\"\n",
    "    \n",
    "    def set_amplitude(self, amplitude):\n",
    "        command = f\"1001 s m 10 7 {amplitude}\"\n",
    "        response = self.send_command_to_stimulator(command)\n",
    "        return response\n",
    "    \n",
    "    def run(self): # this should set it so its waiting for trigger\n",
    "        command = '1001 s a run'\n",
    "        response = self.send_command_to_stimulator(command)\n",
    "    def stop(self): # put it in a ready state but not able to receive trigger\n",
    "        command = '1001 s a stop'\n",
    "        response = self.send_command_to_stimulator(command)\n",
    "        return response\n",
    "\n",
    "    def close_connection(self):\n",
    "        if self.serial_port is not open:\n",
    "            self.serial_port.close()\n",
    "            print(\"Serial port closed.\")\n",
    "        else:\n",
    "            print(\"Serial port was not open.\")"
   ]
  },
  {
   "cell_type": "code",
   "execution_count": 2,
   "metadata": {},
   "outputs": [],
   "source": [
    "am = AM4100('COM4')\n",
    "am.flush_serial_port()\n",
    "#am.close_connection()"
   ]
  },
  {
   "cell_type": "code",
   "execution_count": 8,
   "metadata": {},
   "outputs": [
    {
     "name": "stdout",
     "output_type": "stream",
     "text": [
      "Send= 1001 s m 10 7 -25\n",
      "Reply= 1001 s m 10 7 -25\n"
     ]
    },
    {
     "data": {
      "text/plain": [
       "'1001 s m 10 7 -25'"
      ]
     },
     "execution_count": 8,
     "metadata": {},
     "output_type": "execute_result"
    }
   ],
   "source": [
    "am.set_amplitude(amplitude = -25)"
   ]
  },
  {
   "cell_type": "code",
   "execution_count": 9,
   "metadata": {},
   "outputs": [
    {
     "name": "stdout",
     "output_type": "stream",
     "text": [
      "Send= 1001 s a run\n",
      "Reply= *\n"
     ]
    }
   ],
   "source": [
    "am.run()"
   ]
  },
  {
   "cell_type": "code",
   "execution_count": 14,
   "metadata": {},
   "outputs": [
    {
     "name": "stdout",
     "output_type": "stream",
     "text": [
      "Send= 1001 s m 0 0 1\n",
      "Reply= 1001 s m 10 7 -25\n"
     ]
    },
    {
     "data": {
      "text/plain": [
       "'1001 s m 10 7 -25'"
      ]
     },
     "execution_count": 14,
     "metadata": {},
     "output_type": "execute_result"
    }
   ],
   "source": [
    "am.send_command_to_stimulator('1001 s m 0 0 1')"
   ]
  },
  {
   "cell_type": "code",
   "execution_count": 12,
   "metadata": {},
   "outputs": [
    {
     "name": "stdout",
     "output_type": "stream",
     "text": [
      "Send= 1001 s a stop\n",
      "Reply= *\n"
     ]
    },
    {
     "data": {
      "text/plain": [
       "'*'"
      ]
     },
     "execution_count": 12,
     "metadata": {},
     "output_type": "execute_result"
    }
   ],
   "source": [
    "am.send_command_to_stimulator('1001 s a stop')"
   ]
  },
  {
   "cell_type": "code",
   "execution_count": null,
   "metadata": {},
   "outputs": [],
   "source": []
  },
  {
   "cell_type": "code",
   "execution_count": null,
   "metadata": {},
   "outputs": [],
   "source": []
  }
 ],
 "metadata": {
  "kernelspec": {
   "display_name": "base",
   "language": "python",
   "name": "python3"
  },
  "language_info": {
   "codemirror_mode": {
    "name": "ipython",
    "version": 3
   },
   "file_extension": ".py",
   "mimetype": "text/x-python",
   "name": "python",
   "nbconvert_exporter": "python",
   "pygments_lexer": "ipython3",
   "version": "3.11.5"
  }
 },
 "nbformat": 4,
 "nbformat_minor": 2
}
