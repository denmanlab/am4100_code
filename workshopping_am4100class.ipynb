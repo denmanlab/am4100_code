{
 "cells": [
  {
   "cell_type": "code",
   "execution_count": 1,
   "metadata": {},
   "outputs": [],
   "source": [
    "import serial\n",
    "import time\n",
    "\n",
    "class AM4100:\n",
    "    def __init__(self, com_port='COM4', baud_rate=115200):\n",
    "        self.com_port = com_port\n",
    "        self.baud_rate = baud_rate\n",
    "        self.serial_port = None\n",
    "        self.setup_serial_connection()\n",
    "\n",
    "    def setup_serial_connection(self):\n",
    "        try:\n",
    "            self.serial_port = serial.Serial(self.com_port, self.baud_rate, timeout=10)\n",
    "            self.serial_port.bytesize = serial.EIGHTBITS\n",
    "            self.serial_port.stopbits = serial.STOPBITS_ONE\n",
    "            self.serial_port.parity = serial.PARITY_ODD\n",
    "            self.serial_port.write_timeout = 10  # Set write timeout to prevent blocking write calls\n",
    "            time.sleep(1)  # Allow some time for the serial port to initialize\n",
    "        except serial.SerialException as e:\n",
    "            print(f\"Error opening serial port: {e}\")\n",
    "            self.serial_port = None\n",
    "\n",
    "    def flush_serial_port(self):\n",
    "        if self.serial_port is not None:\n",
    "            self.serial_port.reset_input_buffer()  # Clear input buffer\n",
    "            self.serial_port.reset_output_buffer()  # Clear output buffer\n",
    "\n",
    "    # def send_command_to_stimulator(self, command):\n",
    "    #     if self.serial_port is not None:\n",
    "    #         try:\n",
    "    #             self.serial_port.write(command.encode() + b'\\r\\n')\n",
    "    #             print(f\"Send= {command}\")\n",
    "    #             #time.sleep(0.1)  # Short delay to allow command processing\n",
    "    #             response = self.serial_port.readline().decode().strip()\n",
    "    #             response = response.replace('\\r', '').replace('\\n', '~')  # Process response\n",
    "    #             print(f\"Reply= {response}\")\n",
    "    #             return response\n",
    "    #         except serial.SerialException as e:\n",
    "    #             print(f\"Error sending command: {e}\")\n",
    "    #             return \"error no data\"\n",
    "    #     else:\n",
    "    #         print(\"Serial port is not open.\")\n",
    "    #         return \"error no data\"\n",
    "    def send_command_to_stimulator(self, command, terminator=b'\\n'):\n",
    "        if self.serial_port is not None:\n",
    "            try:\n",
    "                self.serial_port.write(command.encode() + b'\\r\\n')  # Send the command with CR+LF\n",
    "                print(f\"Send= {command}\")\n",
    "                response = self.serial_port.read_until().decode().strip()  # Read until the terminator\n",
    "                \n",
    "                response = response.replace('\\r', '').replace('\\n', '~')  # Process response to replace CR and LF with tilde\n",
    "                print(f\"Reply= {response}\")\n",
    "                return response\n",
    "            except serial.SerialException as e:\n",
    "                print(f\"Error sending command: {e}\")\n",
    "                return \"error no data\"\n",
    "        else:\n",
    "            print(\"Serial port is not open.\")\n",
    "            return \"error no data\"\n",
    "    \n",
    "    def send_command_and_read_response(self, command):\n",
    "        if self.serial_port is not None:\n",
    "            try:\n",
    "                # Send command\n",
    "                full_command = command.encode() + b'\\r\\n'\n",
    "                self.serial_port.write(full_command)\n",
    "                print(f\"Send= {command}\")\n",
    "\n",
    "                # Read response until the expected terminator\n",
    "                response = self.serial_port.read_until(b'*\\r\\n')\n",
    "                decoded_response = response.decode().strip()\n",
    "\n",
    "                # Print the raw response for debugging\n",
    "                print(f\"Raw Reply= {decoded_response}\")\n",
    "\n",
    "                # Process and extract the relevant part of the response\n",
    "                # The value after the last newline and before the '*'\n",
    "                relevant_part = decoded_response.split('\\r\\n')[-2]  # Get the second last item after split which should be `-25`\n",
    "                print(f\"Relevant Response= {relevant_part}\")\n",
    "                return relevant_part\n",
    "            except serial.SerialException as e:\n",
    "                print(f\"Error sending command or reading response: {e}\")\n",
    "                return \"error no data\"\n",
    "        else:\n",
    "            print(\"Serial port is not open.\")\n",
    "            return \"error no data\"\n",
    "    \n",
    "    def set_amplitude(self, amplitude):\n",
    "        command = f\"1001 s m 10 7 {amplitude}\"\n",
    "        response = self.send_command_to_stimulator(command)\n",
    "        return response\n",
    "    def get_amplitude(self):\n",
    "        self.serial_port.write('g m 10 7'.encode())\n",
    "        response = self.serial_port.readline().decode().strip()\n",
    "        print(f'reply= {response}')\n",
    "    def read(self):\n",
    "        response = self.serial_port.read_until()\n",
    "    def run(self): # this should set it so its waiting for trigger\n",
    "        command = '1001 s a run'\n",
    "        response = self.send_command_to_stimulator(command)\n",
    "    def stop(self): # put it in a ready state but not able to receive trigger\n",
    "        command = '1001 s a stop'\n",
    "        response = self.send_command_to_stimulator(command)\n",
    "        return response\n",
    "\n",
    "    def close_connection(self):\n",
    "        if self.serial_port is not open:\n",
    "            self.serial_port.close()\n",
    "            print(\"Serial port closed.\")\n",
    "        else:\n",
    "            print(\"Serial port was not open.\")"
   ]
  },
  {
   "cell_type": "code",
   "execution_count": 3,
   "metadata": {},
   "outputs": [],
   "source": [
    "am = AM4100('COM1')\n",
    "am.flush_serial_port()\n"
   ]
  },
  {
   "cell_type": "code",
   "execution_count": 20,
   "metadata": {},
   "outputs": [
    {
     "name": "stdout",
     "output_type": "stream",
     "text": [
      "Send= 1001 s m 10 7 -50\n",
      "Reply= \n"
     ]
    },
    {
     "data": {
      "text/plain": [
       "''"
      ]
     },
     "execution_count": 20,
     "metadata": {},
     "output_type": "execute_result"
    }
   ],
   "source": [
    "am.set_amplitude(-50)\n"
   ]
  },
  {
   "cell_type": "code",
   "execution_count": 33,
   "metadata": {},
   "outputs": [
    {
     "name": "stdout",
     "output_type": "stream",
     "text": [
      "Send= g m 0 0\n",
      "Raw Reply= g m 0 0\n",
      "0\n",
      "*\n",
      "Relevant Response= 0\n"
     ]
    }
   ],
   "source": [
    "result = am.send_command_and_read_response('g m 0 0')"
   ]
  },
  {
   "cell_type": "code",
   "execution_count": 4,
   "metadata": {},
   "outputs": [
    {
     "name": "stdout",
     "output_type": "stream",
     "text": [
      "Send= g m 10 7\n",
      "Raw Reply= g m 10 7\n",
      "-25\n",
      "*\n",
      "Relevant Response= -25\n",
      "Extracted Value: -25\n"
     ]
    }
   ],
   "source": [
    "result = am.send_command_and_read_response('g m 10 7')\n",
    "print(\"Extracted Value:\", result)"
   ]
  },
  {
   "cell_type": "code",
   "execution_count": 35,
   "metadata": {},
   "outputs": [
    {
     "data": {
      "text/plain": [
       "b'\\ng m 0 0\\r\\r\\n0\\r\\n*\\r\\n'"
      ]
     },
     "execution_count": 35,
     "metadata": {},
     "output_type": "execute_result"
    }
   ],
   "source": [
    "am.serial_port.write('s m 0 0'.encode() + b'\\r\\n')\n",
    "am.serial_port.read_all()"
   ]
  },
  {
   "cell_type": "code",
   "execution_count": 13,
   "metadata": {},
   "outputs": [
    {
     "name": "stdout",
     "output_type": "stream",
     "text": [
      "Send= get status\n",
      "Reply= get status\n",
      "get status\n"
     ]
    }
   ],
   "source": [
    "response = am.send_command_to_stimulator('get status', terminator=b'\\r')\n",
    "print(response)"
   ]
  },
  {
   "cell_type": "code",
   "execution_count": 4,
   "metadata": {},
   "outputs": [
    {
     "name": "stdout",
     "output_type": "stream",
     "text": [
      "Send= 1001 s m 10 7 -25\n",
      "Reply= 1001 s m 10 7 -25\n"
     ]
    },
    {
     "data": {
      "text/plain": [
       "'1001 s m 10 7 -25'"
      ]
     },
     "execution_count": 4,
     "metadata": {},
     "output_type": "execute_result"
    }
   ],
   "source": [
    "am.set_amplitude(amplitude = -25)"
   ]
  },
  {
   "cell_type": "code",
   "execution_count": null,
   "metadata": {},
   "outputs": [],
   "source": []
  },
  {
   "cell_type": "code",
   "execution_count": 10,
   "metadata": {},
   "outputs": [
    {
     "name": "stdout",
     "output_type": "stream",
     "text": [
      "Send= 1001 s a run\n",
      "Reply= 1001 s a run\n"
     ]
    }
   ],
   "source": [
    "am.run()"
   ]
  },
  {
   "cell_type": "code",
   "execution_count": 3,
   "metadata": {},
   "outputs": [
    {
     "name": "stdout",
     "output_type": "stream",
     "text": [
      "Send= 1001 s a stop\n",
      "Reply= \n"
     ]
    },
    {
     "data": {
      "text/plain": [
       "''"
      ]
     },
     "execution_count": 3,
     "metadata": {},
     "output_type": "execute_result"
    }
   ],
   "source": [
    "am.stop()"
   ]
  },
  {
   "cell_type": "code",
   "execution_count": 7,
   "metadata": {},
   "outputs": [
    {
     "name": "stdout",
     "output_type": "stream",
     "text": [
      "reply= \n"
     ]
    }
   ],
   "source": [
    "am.get_amplitude()"
   ]
  },
  {
   "cell_type": "code",
   "execution_count": 17,
   "metadata": {},
   "outputs": [
    {
     "name": "stdout",
     "output_type": "stream",
     "text": [
      "Send= 1001 s m 0 0 0\n",
      "Reply= *\n"
     ]
    },
    {
     "data": {
      "text/plain": [
       "'*'"
      ]
     },
     "execution_count": 17,
     "metadata": {},
     "output_type": "execute_result"
    }
   ],
   "source": [
    "am.send_command_to_stimulator('1001 s m 0 0 0')"
   ]
  },
  {
   "cell_type": "code",
   "execution_count": 18,
   "metadata": {},
   "outputs": [
    {
     "name": "stdout",
     "output_type": "stream",
     "text": [
      "Send= 1001 s a stop\n",
      "Reply= \n"
     ]
    },
    {
     "data": {
      "text/plain": [
       "''"
      ]
     },
     "execution_count": 18,
     "metadata": {},
     "output_type": "execute_result"
    }
   ],
   "source": [
    "am.send_command_to_stimulator('1001 s a stop')"
   ]
  },
  {
   "cell_type": "code",
   "execution_count": 19,
   "metadata": {},
   "outputs": [
    {
     "name": "stdout",
     "output_type": "stream",
     "text": [
      "Send= 1001 s a stop\n",
      "Reply= 1001 s a run\n"
     ]
    },
    {
     "data": {
      "text/plain": [
       "'1001 s a run'"
      ]
     },
     "execution_count": 19,
     "metadata": {},
     "output_type": "execute_result"
    }
   ],
   "source": [
    "am.send_command_to_stimulator('1001 s a stop')"
   ]
  },
  {
   "cell_type": "code",
   "execution_count": 35,
   "metadata": {},
   "outputs": [
    {
     "name": "stdout",
     "output_type": "stream",
     "text": [
      "Send= 1001 g m 10 7\n",
      "Reply= 1001 s a stop\n"
     ]
    },
    {
     "data": {
      "text/plain": [
       "'1001 s a stop'"
      ]
     },
     "execution_count": 35,
     "metadata": {},
     "output_type": "execute_result"
    }
   ],
   "source": [
    "am.send_command_to_stimulator('1001 g m 10 7')"
   ]
  },
  {
   "cell_type": "code",
   "execution_count": 27,
   "metadata": {},
   "outputs": [
    {
     "name": "stdout",
     "output_type": "stream",
     "text": [
      "Send= 1001 s a run\n",
      "Reply= 1001 s m 0 0 0\n",
      "Send= 1001 set trigger one\n",
      "Reply= *\n"
     ]
    },
    {
     "data": {
      "text/plain": [
       "'*'"
      ]
     },
     "execution_count": 27,
     "metadata": {},
     "output_type": "execute_result"
    }
   ],
   "source": [
    "am.run()\n",
    "time.sleep(1)\n",
    "am.send_command_to_stimulator('1001 set trigger one')"
   ]
  }
 ],
 "metadata": {
  "kernelspec": {
   "display_name": "base",
   "language": "python",
   "name": "python3"
  },
  "language_info": {
   "codemirror_mode": {
    "name": "ipython",
    "version": 3
   },
   "file_extension": ".py",
   "mimetype": "text/x-python",
   "name": "python",
   "nbconvert_exporter": "python",
   "pygments_lexer": "ipython3",
   "version": "3.8.3"
  }
 },
 "nbformat": 4,
 "nbformat_minor": 2
}
